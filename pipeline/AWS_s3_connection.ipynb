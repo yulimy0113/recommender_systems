{
 "cells": [
  {
   "cell_type": "code",
   "execution_count": null,
   "id": "c0798e67-94ca-456c-b1e7-f38f1847a8a9",
   "metadata": {},
   "outputs": [],
   "source": [
    "import os\n",
    "import shutil\n",
    "import boto3\n",
    "import tempfile"
   ]
  },
  {
   "cell_type": "code",
   "execution_count": null,
   "id": "f68561e6-4856-4000-8b6f-4f72ca697f98",
   "metadata": {},
   "outputs": [],
   "source": [
    "AWS_BUCKET_NAME =\"my_bucket\"\n",
    "AWS_ACCESS_KEY_ID = \"aws_access_key_id\"\n",
    "AWS_SECRET_ACCESS_KEY = \"aws_secret_access_key\""
   ]
  },
  {
   "cell_type": "markdown",
   "id": "92c7e14a-5af4-492e-9c12-3e5aad4a0531",
   "metadata": {},
   "source": [
    "### Connect to the AWS s3 Bucket"
   ]
  },
  {
   "cell_type": "code",
   "execution_count": null,
   "id": "c1f8f03f-68af-4ed4-95d1-8890d4e79f13",
   "metadata": {},
   "outputs": [],
   "source": [
    "session = boto3.Session(\n",
    "                        aws_access_key_id = AWS_ACCESS_KEY_ID,\n",
    "                        aws_secret_access_key = AWS_SECRET_ACCESS_KEY\n",
    "                        )\n",
    "\n",
    "s3 = session.resource('s3')\n",
    "\n",
    "my_bucket = s3.Bucket(AWS_BUCKET_NAME)"
   ]
  },
  {
   "cell_type": "markdown",
   "id": "01bf713e-e84b-42d3-a6e9-4841c235e7bb",
   "metadata": {},
   "source": [
    "### Check the file/directory list"
   ]
  },
  {
   "cell_type": "code",
   "execution_count": null,
   "id": "0a72fd6a-4352-4329-ad50-82fca6cece2a",
   "metadata": {},
   "outputs": [],
   "source": [
    "# All\n",
    "for obj in my_bucket.objects.all():\n",
    "print(obj.key)\n",
    "\n",
    "# Select objects only my_dir/in folder_1 & specific type of data\n",
    "for obj in my_bucket.objects.filter(Prefix='my_dir/folder_1/'):\n",
    "if obj.key.endswith('txt'):\n",
    "print(obj.key)"
   ]
  },
  {
   "cell_type": "markdown",
   "id": "883a7b72-ea12-4ad0-bc4a-bbb47874dc84",
   "metadata": {},
   "source": [
    "### Upload the data"
   ]
  },
  {
   "cell_type": "code",
   "execution_count": null,
   "id": "099f8da7-bf14-4b16-a3f9-09415b424a10",
   "metadata": {},
   "outputs": [],
   "source": [
    "# One file\n",
    "upload = s3.Object(AWS_BUCKET_NAME, key)\n",
    "upload.put(Body=target.to_csv(None, index=False)) # Change the type if needed.\n",
    "\n",
    "# If you want to upload the file having a specific path,\n",
    "s3.meta.client.upload_file(\"target_file_name.type(.csv, .txt etc.)\",\n",
    "AWS_BUCKET_NAME,\n",
    "\"{aws_key(path_in_the_bucket)}/{file_name_you_want_to_save_as}.type\")"
   ]
  },
  {
   "cell_type": "markdown",
   "id": "4617ff29-5b84-4166-adaa-f6cf03347040",
   "metadata": {},
   "source": [
    "### Download the data"
   ]
  },
  {
   "cell_type": "code",
   "execution_count": null,
   "id": "589bfd36-4901-4036-b892-7da9b77ce9f9",
   "metadata": {},
   "outputs": [],
   "source": [
    "# One file \n",
    "obj = s3.Object(AWS_BUCKET_NAME, key).get()\n",
    "file = obj['Body']\n",
    "pd.read_csv(file) # If the file is readable by pandas.\n",
    "\n",
    "# If you want to download it to a specific directory.\n",
    "s3.meta.client.download_file(AWS_BUCKET_NAME,\n",
    "                            \"{aws_key}/{file_name_you_want_to_save_as}.type\",\n",
    "                            Filename=”file_name_you_want_to_save_it_as.type”)"
   ]
  }
 ],
 "metadata": {
  "kernelspec": {
   "display_name": "Python 3 (ipykernel)",
   "language": "python",
   "name": "python3"
  },
  "language_info": {
   "codemirror_mode": {
    "name": "ipython",
    "version": 3
   },
   "file_extension": ".py",
   "mimetype": "text/x-python",
   "name": "python",
   "nbconvert_exporter": "python",
   "pygments_lexer": "ipython3",
   "version": "3.9.12"
  }
 },
 "nbformat": 4,
 "nbformat_minor": 5
}
